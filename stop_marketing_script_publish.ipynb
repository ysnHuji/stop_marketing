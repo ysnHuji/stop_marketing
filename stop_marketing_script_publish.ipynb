{
 "cells": [
  {
   "cell_type": "markdown",
   "metadata": {},
   "source": []
  },
  {
   "cell_type": "code",
   "execution_count": 54,
   "metadata": {},
   "outputs": [],
   "source": [
    "import pandas as pd \n",
    "import requests \n",
    "from selenium import webdriver\n",
    "from selenium.webdriver.chrome.service import Service"
   ]
  },
  {
   "cell_type": "markdown",
   "metadata": {},
   "source": [
    "#"
   ]
  },
  {
   "cell_type": "code",
   "execution_count": 194,
   "metadata": {},
   "outputs": [
    {
     "name": "stderr",
     "output_type": "stream",
     "text": [
      "python(36420) MallocStackLogging: can't turn off malloc stack logging because it was not enabled.\n"
     ]
    },
    {
     "name": "stderr",
     "output_type": "stream",
     "text": [
      "python(36459) MallocStackLogging: can't turn off malloc stack logging because it was not enabled.\n"
     ]
    },
    {
     "ename": "NoSuchElementException",
     "evalue": "Message: no such element: Unable to locate element: {\"method\":\"xpath\",\"selector\":\"//*[contains(concat( \" \", @class, \" \" ), concat( \" \", \"ng-scope\", \" \" )) and (((count(preceding-sibling::*) + 1) = 2) and parent::*)]//*[contains(concat( \" \", @class, \" \" ), concat( \" \", \"xs-pe-20\", \" \" )) and (((count(preceding-sibling::*) + 1) = 4) and parent::*)]//*[contains(concat( \" \", @class, \" \" ), concat( \" \", \"ng-binding\", \" \" ))]\"}\n  (Session info: chrome=127.0.6533.122); For documentation on this error, please visit: https://www.selenium.dev/documentation/webdriver/troubleshooting/errors#no-such-element-exception\nStacktrace:\n0   chromedriver                        0x00000001033110b8 cxxbridge1$str$ptr + 1887276\n1   chromedriver                        0x0000000103309794 cxxbridge1$str$ptr + 1856264\n2   chromedriver                        0x0000000102f1882c cxxbridge1$string$len + 88524\n3   chromedriver                        0x0000000102f5c834 cxxbridge1$string$len + 367060\n4   chromedriver                        0x0000000102f9448c cxxbridge1$string$len + 595500\n5   chromedriver                        0x0000000102f51474 cxxbridge1$string$len + 321044\n6   chromedriver                        0x0000000102f520e4 cxxbridge1$string$len + 324228\n7   chromedriver                        0x00000001032d8a9c cxxbridge1$str$ptr + 1656336\n8   chromedriver                        0x00000001032dd4f8 cxxbridge1$str$ptr + 1675372\n9   chromedriver                        0x00000001032be980 cxxbridge1$str$ptr + 1549556\n10  chromedriver                        0x00000001032ddca8 cxxbridge1$str$ptr + 1677340\n11  chromedriver                        0x00000001032b0690 cxxbridge1$str$ptr + 1491460\n12  chromedriver                        0x00000001032faaf0 cxxbridge1$str$ptr + 1795684\n13  chromedriver                        0x00000001032fac6c cxxbridge1$str$ptr + 1796064\n14  chromedriver                        0x00000001033093c8 cxxbridge1$str$ptr + 1855292\n15  libsystem_pthread.dylib             0x0000000189ca2f94 _pthread_start + 136\n16  libsystem_pthread.dylib             0x0000000189c9dd34 thread_start + 8\n",
     "output_type": "error",
     "traceback": [
      "\u001b[0;31m---------------------------------------------------------------------------\u001b[0m",
      "\u001b[0;31mNoSuchElementException\u001b[0m                    Traceback (most recent call last)",
      "Cell \u001b[0;32mIn[194], line 26\u001b[0m\n\u001b[1;32m     24\u001b[0m drug_name_english \u001b[38;5;241m=\u001b[39m driver\u001b[38;5;241m.\u001b[39mfind_element(by\u001b[38;5;241m=\u001b[39m\u001b[38;5;124m'\u001b[39m\u001b[38;5;124mxpath\u001b[39m\u001b[38;5;124m'\u001b[39m, value\u001b[38;5;241m=\u001b[39m\u001b[38;5;124m'\u001b[39m\u001b[38;5;124m//*[(@id = \u001b[39m\u001b[38;5;124m\"\u001b[39m\u001b[38;5;124mcontent\u001b[39m\u001b[38;5;124m\"\u001b[39m\u001b[38;5;124m)]//*[contains(concat( \u001b[39m\u001b[38;5;124m\"\u001b[39m\u001b[38;5;124m \u001b[39m\u001b[38;5;124m\"\u001b[39m\u001b[38;5;124m, @class, \u001b[39m\u001b[38;5;124m\"\u001b[39m\u001b[38;5;124m \u001b[39m\u001b[38;5;124m\"\u001b[39m\u001b[38;5;124m ), concat( \u001b[39m\u001b[38;5;124m\"\u001b[39m\u001b[38;5;124m \u001b[39m\u001b[38;5;124m\"\u001b[39m\u001b[38;5;124m, \u001b[39m\u001b[38;5;124m\"\u001b[39m\u001b[38;5;124mng-scope\u001b[39m\u001b[38;5;124m\"\u001b[39m\u001b[38;5;124m, \u001b[39m\u001b[38;5;124m\"\u001b[39m\u001b[38;5;124m \u001b[39m\u001b[38;5;124m\"\u001b[39m\u001b[38;5;124m )) and (((count(preceding-sibling::*) + 1) = 1) and parent::*)]//*[contains(concat( \u001b[39m\u001b[38;5;124m\"\u001b[39m\u001b[38;5;124m \u001b[39m\u001b[38;5;124m\"\u001b[39m\u001b[38;5;124m, @class, \u001b[39m\u001b[38;5;124m\"\u001b[39m\u001b[38;5;124m \u001b[39m\u001b[38;5;124m\"\u001b[39m\u001b[38;5;124m ), concat( \u001b[39m\u001b[38;5;124m\"\u001b[39m\u001b[38;5;124m \u001b[39m\u001b[38;5;124m\"\u001b[39m\u001b[38;5;124m, \u001b[39m\u001b[38;5;124m\"\u001b[39m\u001b[38;5;124mxs-pe-20\u001b[39m\u001b[38;5;124m\"\u001b[39m\u001b[38;5;124m, \u001b[39m\u001b[38;5;124m\"\u001b[39m\u001b[38;5;124m \u001b[39m\u001b[38;5;124m\"\u001b[39m\u001b[38;5;124m )) and (((count(preceding-sibling::*) + 1) = 1) and parent::*)]//*[contains(concat( \u001b[39m\u001b[38;5;124m\"\u001b[39m\u001b[38;5;124m \u001b[39m\u001b[38;5;124m\"\u001b[39m\u001b[38;5;124m, @class, \u001b[39m\u001b[38;5;124m\"\u001b[39m\u001b[38;5;124m \u001b[39m\u001b[38;5;124m\"\u001b[39m\u001b[38;5;124m ), concat( \u001b[39m\u001b[38;5;124m\"\u001b[39m\u001b[38;5;124m \u001b[39m\u001b[38;5;124m\"\u001b[39m\u001b[38;5;124m, \u001b[39m\u001b[38;5;124m\"\u001b[39m\u001b[38;5;124mng-binding\u001b[39m\u001b[38;5;124m\"\u001b[39m\u001b[38;5;124m, \u001b[39m\u001b[38;5;124m\"\u001b[39m\u001b[38;5;124m \u001b[39m\u001b[38;5;124m\"\u001b[39m\u001b[38;5;124m ))]\u001b[39m\u001b[38;5;124m'\u001b[39m)\n\u001b[1;32m     25\u001b[0m \u001b[38;5;66;03m# notification = driver.find_element(by='xpath', value='//bdi')\u001b[39;00m\n\u001b[0;32m---> 26\u001b[0m manufacturer \u001b[38;5;241m=\u001b[39m driver\u001b[38;5;241m.\u001b[39mfind_element(by\u001b[38;5;241m=\u001b[39m\u001b[38;5;124m'\u001b[39m\u001b[38;5;124mxpath\u001b[39m\u001b[38;5;124m'\u001b[39m, value\u001b[38;5;241m=\u001b[39m\u001b[38;5;124m'\u001b[39m\u001b[38;5;124m//*[contains(concat( \u001b[39m\u001b[38;5;124m\"\u001b[39m\u001b[38;5;124m \u001b[39m\u001b[38;5;124m\"\u001b[39m\u001b[38;5;124m, @class, \u001b[39m\u001b[38;5;124m\"\u001b[39m\u001b[38;5;124m \u001b[39m\u001b[38;5;124m\"\u001b[39m\u001b[38;5;124m ), concat( \u001b[39m\u001b[38;5;124m\"\u001b[39m\u001b[38;5;124m \u001b[39m\u001b[38;5;124m\"\u001b[39m\u001b[38;5;124m, \u001b[39m\u001b[38;5;124m\"\u001b[39m\u001b[38;5;124mng-scope\u001b[39m\u001b[38;5;124m\"\u001b[39m\u001b[38;5;124m, \u001b[39m\u001b[38;5;124m\"\u001b[39m\u001b[38;5;124m \u001b[39m\u001b[38;5;124m\"\u001b[39m\u001b[38;5;124m )) and (((count(preceding-sibling::*) + 1) = 2) and parent::*)]//*[contains(concat( \u001b[39m\u001b[38;5;124m\"\u001b[39m\u001b[38;5;124m \u001b[39m\u001b[38;5;124m\"\u001b[39m\u001b[38;5;124m, @class, \u001b[39m\u001b[38;5;124m\"\u001b[39m\u001b[38;5;124m \u001b[39m\u001b[38;5;124m\"\u001b[39m\u001b[38;5;124m ), concat( \u001b[39m\u001b[38;5;124m\"\u001b[39m\u001b[38;5;124m \u001b[39m\u001b[38;5;124m\"\u001b[39m\u001b[38;5;124m, \u001b[39m\u001b[38;5;124m\"\u001b[39m\u001b[38;5;124mxs-pe-20\u001b[39m\u001b[38;5;124m\"\u001b[39m\u001b[38;5;124m, \u001b[39m\u001b[38;5;124m\"\u001b[39m\u001b[38;5;124m \u001b[39m\u001b[38;5;124m\"\u001b[39m\u001b[38;5;124m )) and (((count(preceding-sibling::*) + 1) = 4) and parent::*)]//*[contains(concat( \u001b[39m\u001b[38;5;124m\"\u001b[39m\u001b[38;5;124m \u001b[39m\u001b[38;5;124m\"\u001b[39m\u001b[38;5;124m, @class, \u001b[39m\u001b[38;5;124m\"\u001b[39m\u001b[38;5;124m \u001b[39m\u001b[38;5;124m\"\u001b[39m\u001b[38;5;124m ), concat( \u001b[39m\u001b[38;5;124m\"\u001b[39m\u001b[38;5;124m \u001b[39m\u001b[38;5;124m\"\u001b[39m\u001b[38;5;124m, \u001b[39m\u001b[38;5;124m\"\u001b[39m\u001b[38;5;124mng-binding\u001b[39m\u001b[38;5;124m\"\u001b[39m\u001b[38;5;124m, \u001b[39m\u001b[38;5;124m\"\u001b[39m\u001b[38;5;124m \u001b[39m\u001b[38;5;124m\"\u001b[39m\u001b[38;5;124m ))]\u001b[39m\u001b[38;5;124m'\u001b[39m)\n\u001b[1;32m     27\u001b[0m reason \u001b[38;5;241m=\u001b[39m driver\u001b[38;5;241m.\u001b[39mfind_element(by \u001b[38;5;241m=\u001b[39m \u001b[38;5;124m'\u001b[39m\u001b[38;5;124mxpath\u001b[39m\u001b[38;5;124m'\u001b[39m, value\u001b[38;5;241m=\u001b[39m\u001b[38;5;124m'\u001b[39m\u001b[38;5;124m//*[(@id = \u001b[39m\u001b[38;5;124m\"\u001b[39m\u001b[38;5;124mMultiItemsres_stop_markt-WraperSpan\u001b[39m\u001b[38;5;124m\"\u001b[39m\u001b[38;5;124m)]//*[contains(concat( \u001b[39m\u001b[38;5;124m\"\u001b[39m\u001b[38;5;124m \u001b[39m\u001b[38;5;124m\"\u001b[39m\u001b[38;5;124m, @class, \u001b[39m\u001b[38;5;124m\"\u001b[39m\u001b[38;5;124m \u001b[39m\u001b[38;5;124m\"\u001b[39m\u001b[38;5;124m ), concat( \u001b[39m\u001b[38;5;124m\"\u001b[39m\u001b[38;5;124m \u001b[39m\u001b[38;5;124m\"\u001b[39m\u001b[38;5;124m, \u001b[39m\u001b[38;5;124m\"\u001b[39m\u001b[38;5;124mng-scope\u001b[39m\u001b[38;5;124m\"\u001b[39m\u001b[38;5;124m, \u001b[39m\u001b[38;5;124m\"\u001b[39m\u001b[38;5;124m \u001b[39m\u001b[38;5;124m\"\u001b[39m\u001b[38;5;124m ))]\u001b[39m\u001b[38;5;124m'\u001b[39m)\n\u001b[1;32m     28\u001b[0m start_stop_marketing \u001b[38;5;241m=\u001b[39m driver\u001b[38;5;241m.\u001b[39mfind_element(by\u001b[38;5;241m=\u001b[39m\u001b[38;5;124m'\u001b[39m\u001b[38;5;124mxpath\u001b[39m\u001b[38;5;124m'\u001b[39m, value\u001b[38;5;241m=\u001b[39m\u001b[38;5;124m'\u001b[39m\u001b[38;5;124m//*[contains(concat( \u001b[39m\u001b[38;5;124m\"\u001b[39m\u001b[38;5;124m \u001b[39m\u001b[38;5;124m\"\u001b[39m\u001b[38;5;124m, @class, \u001b[39m\u001b[38;5;124m\"\u001b[39m\u001b[38;5;124m \u001b[39m\u001b[38;5;124m\"\u001b[39m\u001b[38;5;124m ), concat( \u001b[39m\u001b[38;5;124m\"\u001b[39m\u001b[38;5;124m \u001b[39m\u001b[38;5;124m\"\u001b[39m\u001b[38;5;124m, \u001b[39m\u001b[38;5;124m\"\u001b[39m\u001b[38;5;124mxs-pe-20\u001b[39m\u001b[38;5;124m\"\u001b[39m\u001b[38;5;124m, \u001b[39m\u001b[38;5;124m\"\u001b[39m\u001b[38;5;124m \u001b[39m\u001b[38;5;124m\"\u001b[39m\u001b[38;5;124m )) and (((count(preceding-sibling::*) + 1) = 5) and parent::*)]//*[contains(concat( \u001b[39m\u001b[38;5;124m\"\u001b[39m\u001b[38;5;124m \u001b[39m\u001b[38;5;124m\"\u001b[39m\u001b[38;5;124m, @class, \u001b[39m\u001b[38;5;124m\"\u001b[39m\u001b[38;5;124m \u001b[39m\u001b[38;5;124m\"\u001b[39m\u001b[38;5;124m ), concat( \u001b[39m\u001b[38;5;124m\"\u001b[39m\u001b[38;5;124m \u001b[39m\u001b[38;5;124m\"\u001b[39m\u001b[38;5;124m, \u001b[39m\u001b[38;5;124m\"\u001b[39m\u001b[38;5;124mng-binding\u001b[39m\u001b[38;5;124m\"\u001b[39m\u001b[38;5;124m, \u001b[39m\u001b[38;5;124m\"\u001b[39m\u001b[38;5;124m \u001b[39m\u001b[38;5;124m\"\u001b[39m\u001b[38;5;124m ))]\u001b[39m\u001b[38;5;124m'\u001b[39m)\n",
      "File \u001b[0;32m/opt/anaconda3/lib/python3.11/site-packages/selenium/webdriver/remote/webdriver.py:748\u001b[0m, in \u001b[0;36mWebDriver.find_element\u001b[0;34m(self, by, value)\u001b[0m\n\u001b[1;32m    745\u001b[0m     by \u001b[38;5;241m=\u001b[39m By\u001b[38;5;241m.\u001b[39mCSS_SELECTOR\n\u001b[1;32m    746\u001b[0m     value \u001b[38;5;241m=\u001b[39m \u001b[38;5;124mf\u001b[39m\u001b[38;5;124m'\u001b[39m\u001b[38;5;124m[name=\u001b[39m\u001b[38;5;124m\"\u001b[39m\u001b[38;5;132;01m{\u001b[39;00mvalue\u001b[38;5;132;01m}\u001b[39;00m\u001b[38;5;124m\"\u001b[39m\u001b[38;5;124m]\u001b[39m\u001b[38;5;124m'\u001b[39m\n\u001b[0;32m--> 748\u001b[0m \u001b[38;5;28;01mreturn\u001b[39;00m \u001b[38;5;28mself\u001b[39m\u001b[38;5;241m.\u001b[39mexecute(Command\u001b[38;5;241m.\u001b[39mFIND_ELEMENT, {\u001b[38;5;124m\"\u001b[39m\u001b[38;5;124musing\u001b[39m\u001b[38;5;124m\"\u001b[39m: by, \u001b[38;5;124m\"\u001b[39m\u001b[38;5;124mvalue\u001b[39m\u001b[38;5;124m\"\u001b[39m: value})[\u001b[38;5;124m\"\u001b[39m\u001b[38;5;124mvalue\u001b[39m\u001b[38;5;124m\"\u001b[39m]\n",
      "File \u001b[0;32m/opt/anaconda3/lib/python3.11/site-packages/selenium/webdriver/remote/webdriver.py:354\u001b[0m, in \u001b[0;36mWebDriver.execute\u001b[0;34m(self, driver_command, params)\u001b[0m\n\u001b[1;32m    352\u001b[0m response \u001b[38;5;241m=\u001b[39m \u001b[38;5;28mself\u001b[39m\u001b[38;5;241m.\u001b[39mcommand_executor\u001b[38;5;241m.\u001b[39mexecute(driver_command, params)\n\u001b[1;32m    353\u001b[0m \u001b[38;5;28;01mif\u001b[39;00m response:\n\u001b[0;32m--> 354\u001b[0m     \u001b[38;5;28mself\u001b[39m\u001b[38;5;241m.\u001b[39merror_handler\u001b[38;5;241m.\u001b[39mcheck_response(response)\n\u001b[1;32m    355\u001b[0m     response[\u001b[38;5;124m\"\u001b[39m\u001b[38;5;124mvalue\u001b[39m\u001b[38;5;124m\"\u001b[39m] \u001b[38;5;241m=\u001b[39m \u001b[38;5;28mself\u001b[39m\u001b[38;5;241m.\u001b[39m_unwrap_value(response\u001b[38;5;241m.\u001b[39mget(\u001b[38;5;124m\"\u001b[39m\u001b[38;5;124mvalue\u001b[39m\u001b[38;5;124m\"\u001b[39m, \u001b[38;5;28;01mNone\u001b[39;00m))\n\u001b[1;32m    356\u001b[0m     \u001b[38;5;28;01mreturn\u001b[39;00m response\n",
      "File \u001b[0;32m/opt/anaconda3/lib/python3.11/site-packages/selenium/webdriver/remote/errorhandler.py:229\u001b[0m, in \u001b[0;36mErrorHandler.check_response\u001b[0;34m(self, response)\u001b[0m\n\u001b[1;32m    227\u001b[0m         alert_text \u001b[38;5;241m=\u001b[39m value[\u001b[38;5;124m\"\u001b[39m\u001b[38;5;124malert\u001b[39m\u001b[38;5;124m\"\u001b[39m]\u001b[38;5;241m.\u001b[39mget(\u001b[38;5;124m\"\u001b[39m\u001b[38;5;124mtext\u001b[39m\u001b[38;5;124m\"\u001b[39m)\n\u001b[1;32m    228\u001b[0m     \u001b[38;5;28;01mraise\u001b[39;00m exception_class(message, screen, stacktrace, alert_text)  \u001b[38;5;66;03m# type: ignore[call-arg]  # mypy is not smart enough here\u001b[39;00m\n\u001b[0;32m--> 229\u001b[0m \u001b[38;5;28;01mraise\u001b[39;00m exception_class(message, screen, stacktrace)\n",
      "\u001b[0;31mNoSuchElementException\u001b[0m: Message: no such element: Unable to locate element: {\"method\":\"xpath\",\"selector\":\"//*[contains(concat( \" \", @class, \" \" ), concat( \" \", \"ng-scope\", \" \" )) and (((count(preceding-sibling::*) + 1) = 2) and parent::*)]//*[contains(concat( \" \", @class, \" \" ), concat( \" \", \"xs-pe-20\", \" \" )) and (((count(preceding-sibling::*) + 1) = 4) and parent::*)]//*[contains(concat( \" \", @class, \" \" ), concat( \" \", \"ng-binding\", \" \" ))]\"}\n  (Session info: chrome=127.0.6533.122); For documentation on this error, please visit: https://www.selenium.dev/documentation/webdriver/troubleshooting/errors#no-such-element-exception\nStacktrace:\n0   chromedriver                        0x00000001033110b8 cxxbridge1$str$ptr + 1887276\n1   chromedriver                        0x0000000103309794 cxxbridge1$str$ptr + 1856264\n2   chromedriver                        0x0000000102f1882c cxxbridge1$string$len + 88524\n3   chromedriver                        0x0000000102f5c834 cxxbridge1$string$len + 367060\n4   chromedriver                        0x0000000102f9448c cxxbridge1$string$len + 595500\n5   chromedriver                        0x0000000102f51474 cxxbridge1$string$len + 321044\n6   chromedriver                        0x0000000102f520e4 cxxbridge1$string$len + 324228\n7   chromedriver                        0x00000001032d8a9c cxxbridge1$str$ptr + 1656336\n8   chromedriver                        0x00000001032dd4f8 cxxbridge1$str$ptr + 1675372\n9   chromedriver                        0x00000001032be980 cxxbridge1$str$ptr + 1549556\n10  chromedriver                        0x00000001032ddca8 cxxbridge1$str$ptr + 1677340\n11  chromedriver                        0x00000001032b0690 cxxbridge1$str$ptr + 1491460\n12  chromedriver                        0x00000001032faaf0 cxxbridge1$str$ptr + 1795684\n13  chromedriver                        0x00000001032fac6c cxxbridge1$str$ptr + 1796064\n14  chromedriver                        0x00000001033093c8 cxxbridge1$str$ptr + 1855292\n15  libsystem_pthread.dylib             0x0000000189ca2f94 _pthread_start + 136\n16  libsystem_pthread.dylib             0x0000000189c9dd34 thread_start + 8\n"
     ]
    }
   ],
   "source": [
    "##Creating the lists to store the data\n",
    "\n",
    "my_list_tachshir = []\n",
    "my_list_name_of_drug = []\n",
    "my_list_notification = []\n",
    "my_list_start_date = []\n",
    "my_list_manufacturer = []\n",
    "my_list_reason = [] \n",
    "my_list_start_stop_marketing = []\n",
    "my_list_stop_stop_marketing = []\n",
    "\n",
    "##Creating the loop to scrape the data from the website\n",
    "## You should change the range to the number of pages you want to scrape according to the website\n",
    "\n",
    "for i in range (0, 5610):\n",
    "    url = f'https://www.gov.il/he/Departments/DynamicCollectors/drug-marketing-stoped?skip={i}'\n",
    "   \n",
    "    path = '/Users/yishai/Downloads/chromedrivermacarm64/chromedriver'\n",
    "    service = Service(executable_path=path)\n",
    "    driver = webdriver.Chrome(service=service)\n",
    "\n",
    "    driver.get(url)\n",
    "\n",
    "##Extracting the data from the website\n",
    "\n",
    "    \n",
    "    notification_name = driver.find_element(by='xpath', value='//*[contains(concat( \" \", @class, \" \" ), concat( \" \", \"bold\", \" \" ))]')\n",
    "    drug_name_english = driver.find_element(by='xpath', value='//*[(@id = \"content\")]//*[contains(concat( \" \", @class, \" \" ), concat( \" \", \"ng-scope\", \" \" )) and (((count(preceding-sibling::*) + 1) = 1) and parent::*)]//*[contains(concat( \" \", @class, \" \" ), concat( \" \", \"xs-pe-20\", \" \" )) and (((count(preceding-sibling::*) + 1) = 1) and parent::*)]//*[contains(concat( \" \", @class, \" \" ), concat( \" \", \"ng-binding\", \" \" ))]')\n",
    "    manufacturer = driver.find_element(by='xpath', value='//*[contains(concat( \" \", @class, \" \" ), concat( \" \", \"ng-scope\", \" \" )) and (((count(preceding-sibling::*) + 1) = 2) and parent::*)]//*[contains(concat( \" \", @class, \" \" ), concat( \" \", \"xs-pe-20\", \" \" )) and (((count(preceding-sibling::*) + 1) = 4) and parent::*)]//*[contains(concat( \" \", @class, \" \" ), concat( \" \", \"ng-binding\", \" \" ))]')\n",
    "    reason = driver.find_element(by = 'xpath', value='//*[(@id = \"MultiItemsres_stop_markt-WraperSpan\")]//*[contains(concat( \" \", @class, \" \" ), concat( \" \", \"ng-scope\", \" \" ))]')\n",
    "    start_stop_marketing = driver.find_element(by='xpath', value='//*[contains(concat( \" \", @class, \" \" ), concat( \" \", \"xs-pe-20\", \" \" )) and (((count(preceding-sibling::*) + 1) = 5) and parent::*)]//*[contains(concat( \" \", @class, \" \" ), concat( \" \", \"ng-binding\", \" \" ))]')\n",
    "   \n",
    "    stop_stop_marketing = driver.find_element(by='xpath', value='//*[(@id = \"content\")]//*[contains(concat( \" \", @class, \" \" ), concat( \" \", \"ng-scope\", \" \" )) and (((count(preceding-sibling::*) + 1) = 1) and parent::*)]//*[contains(concat( \" \", @class, \" \" ), concat( \" \", \"xs-pe-20\", \" \" )) and (((count(preceding-sibling::*) + 1) = 6) and parent::*)]//*[contains(concat( \" \", @class, \" \" ), concat( \" \", \"ng-binding\", \" \" ))]')\n",
    "\n",
    "    my_list_tachshir.append(notification_name.text)\n",
    "    my_list_name_of_drug.append(drug_name_english.text)\n",
    "    my_list_start_stop_marketing.append(start_stop_marketing.text)\n",
    "    my_list_stop_stop_marketing.append(stop_stop_marketing.text)\n",
    "    my_list_manufacturer.append(manufacturer.text)\n",
    "    my_list_reason.append(reason.text)\n",
    "\n",
    "    driver.close()\n",
    "    \n",
    "\n",
    "driver.quit()\n",
    "\n",
    "\n"
   ]
  },
  {
   "cell_type": "code",
   "execution_count": 175,
   "metadata": {},
   "outputs": [
    {
     "ename": "NameError",
     "evalue": "name 'df22' is not defined",
     "output_type": "error",
     "traceback": [
      "\u001b[0;31m---------------------------------------------------------------------------\u001b[0m",
      "\u001b[0;31mNameError\u001b[0m                                 Traceback (most recent call last)",
      "Cell \u001b[0;32mIn[175], line 1\u001b[0m\n\u001b[0;32m----> 1\u001b[0m df22\n",
      "\u001b[0;31mNameError\u001b[0m: name 'df22' is not defined"
     ]
    }
   ],
   "source": [
    "df22\n"
   ]
  },
  {
   "cell_type": "code",
   "execution_count": 195,
   "metadata": {},
   "outputs": [],
   "source": [
    "df = pd.DataFrame(columns=['תאריך פרסום','שם התכשיר', 'שם תכשיר באנגלית','שם החברה','סיבת העצירה','תאריך העצירה','צפי לחידוש שיווק', 'קבלת הודעה'])\n",
    "\n",
    "\n",
    "\n",
    "df['שם התכשיר']= my_list_tachshir\n",
    "df['שם תכשיר באנגלית']= my_list_name_of_drug\n",
    "df['שם החברה']= my_list_manufacturer\n",
    "df['סיבת העצירה']= my_list_reason\n",
    "df['תאריך העצירה']= my_list_start_stop_marketing\n",
    "df['צפי לחידוש שיווק']= my_list_stop_stop_marketing \n",
    "df.to_csv('data.csv', index=False, encoding='utf-8-sig')\n",
    "\n",
    "\n",
    "\n"
   ]
  },
  {
   "cell_type": "code",
   "execution_count": null,
   "metadata": {},
   "outputs": [],
   "source": []
  }
 ],
 "metadata": {
  "kernelspec": {
   "display_name": "base",
   "language": "python",
   "name": "python3"
  },
  "language_info": {
   "codemirror_mode": {
    "name": "ipython",
    "version": 3
   },
   "file_extension": ".py",
   "mimetype": "text/x-python",
   "name": "python",
   "nbconvert_exporter": "python",
   "pygments_lexer": "ipython3",
   "version": "3.11.7"
  }
 },
 "nbformat": 4,
 "nbformat_minor": 2
}
